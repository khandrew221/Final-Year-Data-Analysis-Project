{
 "cells": [
  {
   "cell_type": "code",
   "execution_count": null,
   "metadata": {},
   "outputs": [],
   "source": [
    "import folium\n",
    "import numpy as np\n",
    "import pandas as pd\n",
    "import matplotlib.pyplot as plt \n",
    "\n",
    "mapdata = np.load('mapdata.npy',allow_pickle='TRUE').item()\n",
    "df_compare = pd.read_csv('clusters_diary.csv')\n",
    "\n",
    "cluster4 = df_compare[\"Region #\"].loc[df_compare['Cluster']==0]\n",
    "cluster3 = df_compare[\"Region #\"].loc[df_compare['Cluster']==1]\n",
    "cluster5 = df_compare[\"Region #\"].loc[df_compare['Cluster']==2]\n",
    "cluster2 = df_compare[\"Region #\"].loc[df_compare['Cluster']==3]\n",
    "cluster1 = df_compare[\"Region #\"].loc[df_compare['Cluster']==4]\n",
    "\n",
    "blue = {'fillColor': '#0000FF', 'color': '#0000FF', 'weight': 1}\n",
    "red = {'fillColor': '#FF0000', 'color': '#FF0000', 'weight': 1}\n",
    "green = {'fillColor': '#007700', 'color': '#007700', 'weight': 1}\n",
    "magenta = {'fillColor': '#AA00AA', 'color': '#AA00AA', 'weight': 1}\n",
    "cyan = {'fillColor': '#00FFFF', 'color': '#00FFFF', 'weight': 1}\n",
    "black = {'fillColor': '#000000', 'color': '#000000', 'weight': 1}"
   ]
  },
  {
   "cell_type": "code",
   "execution_count": null,
   "metadata": {},
   "outputs": [],
   "source": [
    "def addMapRegions(regionDict, keys, style, m):\n",
    "    for key in keys: \n",
    "        try:\n",
    "            folium.GeoJson(regionDict[key], name=key, style_function=lambda x:style).add_to(m)\n",
    "        except:\n",
    "            print(\"An exception occurred with key: \" + key) "
   ]
  },
  {
   "cell_type": "code",
   "execution_count": null,
   "metadata": {},
   "outputs": [],
   "source": [
    "m1 = folium.Map(location=[52, -2], tiles='', width=500, height=800, zoom_start=6)\n",
    "addMapRegions(mapdata, cluster1, black, m1)\n",
    "addMapRegions(mapdata, cluster3, green, m1)\n",
    "m1"
   ]
  },
  {
   "cell_type": "code",
   "execution_count": null,
   "metadata": {},
   "outputs": [],
   "source": [
    "m2 = folium.Map(location=[52, -2], tiles='', width=500, height=800, zoom_start=6)\n",
    "addMapRegions(mapdata, cluster2, red, m2)\n",
    "addMapRegions(mapdata, cluster4, magenta, m2)\n",
    "addMapRegions(mapdata, cluster5, blue, m2)\n",
    "m2"
   ]
  },
  {
   "cell_type": "code",
   "execution_count": null,
   "metadata": {},
   "outputs": [],
   "source": [
    "pres = df_compare['Cluster']\n",
    "pres = pres.replace(0, 10)\n",
    "pres = pres.replace(4, 0)\n",
    "pres = pres.replace(2, 4)\n",
    "pres = pres.replace(1, 2)\n",
    "pres = pres.replace(3, 1)\n",
    "pres = pres.replace(10, 3)\n"
   ]
  },
  {
   "cell_type": "code",
   "execution_count": null,
   "metadata": {},
   "outputs": [],
   "source": [
    "def plotClusters(data, ax1name, ax2name, k):\n",
    "    cl = pres\n",
    "    colour = ['black', 'red', '#007700', '#AA00AA', 'blue', 'yellow', 'black']\n",
    "    for x in range(k):\n",
    "        plt.scatter(pres[cl==x],\n",
    "            data[ax2name][cl==x],\n",
    "            color=colour[x], marker='o', label='cluster ' + str(x+1))\n",
    "    plt.title(ax2name + \" by cluster\")\n",
    "    plt.xticks([])\n",
    "    plt.legend(bbox_to_anchor=(1.3, 0.7))\n",
    "    plt.plot()"
   ]
  },
  {
   "cell_type": "code",
   "execution_count": null,
   "metadata": {},
   "outputs": [],
   "source": [
    "plotClusters(df_compare, 'Cluster', '% 5+ A*-C', 5)"
   ]
  },
  {
   "cell_type": "code",
   "execution_count": null,
   "metadata": {},
   "outputs": [],
   "source": [
    "plotClusters(df_compare, 'Cluster', '% 5+ A*-C inc Eng & Maths GCSE', 5)"
   ]
  },
  {
   "cell_type": "code",
   "execution_count": null,
   "metadata": {},
   "outputs": [],
   "source": [
    "plotClusters(df_compare, 'Cluster', '% 5+ A*-C excl Eng & Maths GCSE', 5)"
   ]
  },
  {
   "cell_type": "code",
   "execution_count": null,
   "metadata": {},
   "outputs": [],
   "source": [
    "plotClusters(df_compare, 'Cluster', '% 5+ A*-G', 5)"
   ]
  },
  {
   "cell_type": "code",
   "execution_count": null,
   "metadata": {},
   "outputs": [],
   "source": [
    "plotClusters(df_compare, 'Cluster', '% 5+ A*-G inc Eng & Maths GCSE', 5)"
   ]
  },
  {
   "cell_type": "code",
   "execution_count": null,
   "metadata": {},
   "outputs": [],
   "source": [
    "plotClusters(df_compare, 'Cluster', '% 5+ A*-G excl Eng & Maths GCSE', 5)"
   ]
  },
  {
   "cell_type": "code",
   "execution_count": null,
   "metadata": {},
   "outputs": [],
   "source": [
    "plotClusters(df_compare, 'Cluster', 'GCSE or Equv. Maths & English A*-C % achieved', 5)"
   ]
  },
  {
   "cell_type": "code",
   "execution_count": null,
   "metadata": {},
   "outputs": [],
   "source": []
  }
 ],
 "metadata": {
  "kernelspec": {
   "display_name": "Python 3",
   "language": "python",
   "name": "python3"
  },
  "language_info": {
   "codemirror_mode": {
    "name": "ipython",
    "version": 3
   },
   "file_extension": ".py",
   "mimetype": "text/x-python",
   "name": "python",
   "nbconvert_exporter": "python",
   "pygments_lexer": "ipython3",
   "version": "3.6.8"
  }
 },
 "nbformat": 4,
 "nbformat_minor": 2
}
