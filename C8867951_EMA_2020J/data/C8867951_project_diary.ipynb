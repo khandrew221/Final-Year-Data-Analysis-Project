{
 "cells": [
  {
   "cell_type": "markdown",
   "metadata": {},
   "source": [
    "## EMA Project Diary"
   ]
  },
  {
   "cell_type": "markdown",
   "metadata": {},
   "source": [
    "## Data cleaning and shaping"
   ]
  },
  {
   "cell_type": "code",
   "execution_count": null,
   "metadata": {},
   "outputs": [],
   "source": [
    "import pandas as pd\n",
    "\n",
    "import matplotlib.pyplot as plt \n",
    "\n",
    "furl = 'EMA_data/key-stage4/Tables/SFR01_2016_LA_Tables.xlsx'\n",
    "furl2 = 'EMA_data/Deprivation_Index/File_10_ID2015_Local_Authority_District_Summaries.xlsx'\n",
    "\n",
    "df_gcse = pd.read_excel(furl, \"Table LA1\")\n",
    "df_deprivation = pd.read_excel(furl2, \"IMD\")"
   ]
  },
  {
   "cell_type": "code",
   "execution_count": null,
   "metadata": {},
   "outputs": [],
   "source": [
    "df_gcse.head(15)"
   ]
  },
  {
   "cell_type": "code",
   "execution_count": null,
   "metadata": {},
   "outputs": [],
   "source": [
    "df_gcse.tail(15)\n"
   ]
  },
  {
   "cell_type": "markdown",
   "metadata": {},
   "source": [
    "Spreadsheet table is not formatted for easy import into a pandas dataframe and will require a lot of cleaning, including:\n",
    "\n",
    "- removal of empty rows\n",
    "- removal of metadata\n",
    "- naming of columns, as names are spread over rows 3 and 4"
   ]
  },
  {
   "cell_type": "markdown",
   "metadata": {},
   "source": [
    "There are rows and columns that contain no usable data and need to be removed."
   ]
  },
  {
   "cell_type": "code",
   "execution_count": null,
   "metadata": {},
   "outputs": [],
   "source": [
    "#remove unwanted row/column blocks from edges\n",
    "\n",
    "df_gcse = df_gcse.iloc[3:182, 0:12]\n",
    "\n",
    "df_gcse.head()"
   ]
  },
  {
   "cell_type": "code",
   "execution_count": null,
   "metadata": {},
   "outputs": [],
   "source": [
    "df_gcse.tail()"
   ]
  },
  {
   "cell_type": "markdown",
   "metadata": {},
   "source": [
    "That has handled blocks of initial and final rows with no data, leaving the block with the data we want intact."
   ]
  },
  {
   "cell_type": "markdown",
   "metadata": {},
   "source": [
    "Rows 3 and 4 contain column headings, and the columns themselves are unnamed or wrongly named.  Rename, then rows 3 and 4 can be removed."
   ]
  },
  {
   "cell_type": "code",
   "execution_count": null,
   "metadata": {},
   "outputs": [],
   "source": [
    "df_gcse.rename(columns={\n",
    "    'Table LA1: GCSE and equivalent entries and achievements of pupils at the end of key stage 4 by gender for each local authority1 and region': 'Region', \n",
    "    'Unnamed: 1': 'Region #',\n",
    "    'Unnamed: 2': '# Pupils',\n",
    "    'Unnamed: 3': '% 5+ A*-C',\n",
    "    'Unnamed: 4': '% 5+ A*-C inc Eng & Maths GCSE',\n",
    "    'Unnamed: 5': '% 5+ A*-G',     \n",
    "    'Unnamed: 6': '% 5+ A*-G inc Eng & Maths GCSE',\n",
    "    'Unnamed: 7': '% Any passes',  \n",
    "    'Unnamed: 8': 'Av. capped GCSE & Equiv. Points Score Per Pupil',\n",
    "    'Unnamed: 9': 'Av. GCSE & Equiv. Points Score Per Pupil',\n",
    "    'Unnamed: 10': 'GCSE or Equv. Maths & English % entered',\n",
    "    'Unnamed: 11': 'GCSE or Equv. Maths & English A*-C % achieved'\n",
    "}, \n",
    "          inplace=True)\n",
    "\n",
    "df_gcse.head(5)"
   ]
  },
  {
   "cell_type": "code",
   "execution_count": null,
   "metadata": {},
   "outputs": [],
   "source": [
    "#remove nan rows\n",
    "df_gcse = df_gcse[df_gcse['Region'].notnull()]\n",
    "df_gcse.head(15)"
   ]
  },
  {
   "cell_type": "markdown",
   "metadata": {},
   "source": [
    "Compare Local Authorities on these factors:\n",
    "- IMD Average score\n",
    "- IMD - Extent\n",
    "- Income Deprivation - Average score\n",
    "- Employment Deprivation - Average Score\n",
    "- Education Deprivation - Average Score\n",
    "- Health Deprivation - Average Score\n",
    "- Crime - Average Score\n",
    "- Education Deprivation - Average Score\n",
    "- Barriers to housing - Average Score \n",
    "- Living Environment - Average Score\n",
    "- % 5+ A*-C inc Eng & Maths GCSE\n",
    "- % 5+ A*-G inc Eng & Maths GCSE\n",
    "- English/Maths entered\n",
    "- Eng/Math achieved\n",
    "- 5+ A*-C WITHOUT both Eng and Maths\n",
    "- 5+ A-G WITHOUT both Eng and Maths\n",
    "\n",
    "The latter two will give an indication of where there is high achievement in other areas, but Maths&Eng is falling behind. Average scores and overall extent (proportion of an area's population living in nationally most deprived areas) have been chose as deprivation data points.  These provide direct rather than ranked measures of deprivation, though care should be taken with understanding their method of calculation and specific meanings and flaws, as described in materials and reports.\n",
    "\n",
    "Identify clusters, if any, with k-means\n"
   ]
  },
  {
   "cell_type": "markdown",
   "metadata": {},
   "source": [
    "Restart data cleaning with required data, with reference to above."
   ]
  },
  {
   "cell_type": "code",
   "execution_count": null,
   "metadata": {},
   "outputs": [],
   "source": [
    "df_gcse = pd.read_excel(furl, \"Table LA1\")\n",
    "df_gcse = df_gcse.iloc[3:182, 0:12]\n",
    "df_gcse.rename(columns={\n",
    "    'Table LA1: GCSE and equivalent entries and achievements of pupils at the end of key stage 4 by gender for each local authority1 and region': 'Region', \n",
    "    'Unnamed: 1': 'Region #',\n",
    "    'Unnamed: 3': '% 5+ A*-C',\n",
    "    'Unnamed: 4': '% 5+ A*-C inc Eng & Maths GCSE',\n",
    "    'Unnamed: 5': '% 5+ A*-G',     \n",
    "    'Unnamed: 6': '% 5+ A*-G inc Eng & Maths GCSE', \n",
    "    'Unnamed: 10': 'GCSE or Equv. Maths & English % entered',\n",
    "    'Unnamed: 11': 'GCSE or Equv. Maths & English A*-C % achieved'\n",
    "}, inplace=True)\n",
    "\n",
    "df_gcse = df_gcse[[\"Region\", \n",
    "         \"Region #\", \n",
    "         \"% 5+ A*-C\", \n",
    "         \"% 5+ A*-C inc Eng & Maths GCSE\", \n",
    "         \"% 5+ A*-G\", \n",
    "         \"% 5+ A*-G inc Eng & Maths GCSE\",\n",
    "         \"GCSE or Equv. Maths & English % entered\",\n",
    "        \"GCSE or Equv. Maths & English A*-C % achieved\"]]\n",
    "\n",
    "df_gcse = df_gcse[df_gcse['Region'].notnull()]\n",
    "\n",
    "df_gcse.head(10)"
   ]
  },
  {
   "cell_type": "markdown",
   "metadata": {},
   "source": [
    "Look at deprivation data."
   ]
  },
  {
   "cell_type": "code",
   "execution_count": null,
   "metadata": {},
   "outputs": [],
   "source": [
    "df_deprivation.head(10)"
   ]
  },
  {
   "cell_type": "markdown",
   "metadata": {},
   "source": [
    "Reduce to needed columns."
   ]
  },
  {
   "cell_type": "code",
   "execution_count": null,
   "metadata": {},
   "outputs": [],
   "source": [
    "df_deprivation = df_deprivation[[\"Local Authority District code (2013)\", \"Local Authority District name (2013)\", \"IMD - Average score\", \"IMD - Extent\"]]\n",
    "df_deprivation"
   ]
  },
  {
   "cell_type": "markdown",
   "metadata": {},
   "source": [
    "Are we looking at the same regions?"
   ]
  },
  {
   "cell_type": "markdown",
   "metadata": {},
   "source": [
    "Check local authority district codes against each other in both tables."
   ]
  },
  {
   "cell_type": "code",
   "execution_count": null,
   "metadata": {},
   "outputs": [],
   "source": [
    "deprivation_extra = set(df_deprivation[\"Local Authority District code (2013)\"].unique()) - set(df_gcse[\"Region #\"].unique())\n",
    "deprivation_extra"
   ]
  },
  {
   "cell_type": "code",
   "execution_count": null,
   "metadata": {},
   "outputs": [],
   "source": [
    "gcse_extra = set(df_gcse[\"Region #\"].unique()) - set(df_deprivation[\"Local Authority District code (2013)\"].unique())\n",
    "gcse_extra"
   ]
  },
  {
   "cell_type": "markdown",
   "metadata": {},
   "source": [
    "There are a great deal codes present in one set not present in the other, in both directions. That doesn't quite seem right. "
   ]
  },
  {
   "cell_type": "code",
   "execution_count": null,
   "metadata": {
    "scrolled": true
   },
   "outputs": [],
   "source": [
    "df_gcse_extra_regions = df_gcse[[\"Region\", \"Region #\"]].loc[df_gcse['Region #'].isin(gcse_extra)]\n",
    "df_gcse_extra_regions"
   ]
  },
  {
   "cell_type": "markdown",
   "metadata": {},
   "source": [
    "Many of these present in the gcse data clearly represent higher level regions, not the lower level local authorities in the deprivation data. Plus two rows with no region number that need removal. A possible exception is Northumberland.  Some research points to E1* numbers belonging to regions or counties, not the lower level local authorities.  E9, E12 and E13 refer to totals in table LA1.  These can be removed.  "
   ]
  },
  {
   "cell_type": "code",
   "execution_count": null,
   "metadata": {},
   "outputs": [],
   "source": [
    "df_gcse.drop(df_gcse[df_gcse[\"Region #\"]=='Region/\\nLocal Authority number'].index, inplace=True)\n",
    "df_gcse = df_gcse[df_gcse['Region #'].notnull()]\n",
    "\n",
    "df_gcse.drop(df_gcse[df_gcse[\"Region #\"].str.contains('E9.*')].index, inplace=True)\n",
    "df_gcse.drop(df_gcse[df_gcse[\"Region #\"].str.contains('E12.*')].index, inplace=True)\n",
    "df_gcse.drop(df_gcse[df_gcse[\"Region #\"].str.contains('E13.*')].index, inplace=True)\n",
    "df_gcse\n"
   ]
  },
  {
   "cell_type": "code",
   "execution_count": null,
   "metadata": {},
   "outputs": [],
   "source": [
    "gcse_extra = set(df_gcse[\"Region #\"].unique()) - set(df_deprivation[\"Local Authority District code (2013)\"].unique())\n",
    "gcse_extra"
   ]
  },
  {
   "cell_type": "markdown",
   "metadata": {},
   "source": [
    "This leaves Northumberland and Gateshead as suspect values, and there are still a huge amount of extra values in the deprivation data."
   ]
  },
  {
   "cell_type": "code",
   "execution_count": null,
   "metadata": {},
   "outputs": [],
   "source": [
    "df_deprivation_extra_regions = df_deprivation[[\"Local Authority District name (2013)\", \"Local Authority District code (2013)\"]].loc[df_deprivation['Local Authority District code (2013)'].isin(deprivation_extra)]\n",
    "df_deprivation_extra_regions"
   ]
  },
  {
   "cell_type": "markdown",
   "metadata": {},
   "source": [
    "By lucky coincidence we can see that both Northumberland and Gateshead have a different district code in this dataset.  Why?  \n",
    "\n",
    "The remaining regions in table LA1 refer to county level regions.  These can be found in a different deprivation spreadsheet file, File_11_ID_2015_Upper-tier_Local_Authority_Summaries.xlsx. In addition, E10000002 from table LA1 refers to Buckinghamshire. In the deprivation data, the local authorities that make up Buckinghamshire can be found.  We might be looking at the wrong level of local authority, or have to merge two different levels for a complete dataset."
   ]
  },
  {
   "cell_type": "code",
   "execution_count": null,
   "metadata": {},
   "outputs": [],
   "source": [
    "furl3 = 'EMA_data/Deprivation_Index/File_11_ID_2015_Upper-tier_Local_Authority_Summaries.xlsx'\n",
    "df_deprivation2 = pd.read_excel(furl3, \"IMD\")[['Upper Tier Local Authority District code (2013)', 'Upper Tier Local Authority District name (2013)', 'IMD - Average score', 'IMD - Extent']]\n",
    "df_deprivation2"
   ]
  },
  {
   "cell_type": "markdown",
   "metadata": {},
   "source": [
    "The upper level authorities table contains the same number of entries as our gcse table.  Coincidence?"
   ]
  },
  {
   "cell_type": "code",
   "execution_count": null,
   "metadata": {},
   "outputs": [],
   "source": [
    "set(df_gcse[\"Region #\"].unique()) - set(df_deprivation2[\"Upper Tier Local Authority District code (2013)\"].unique())"
   ]
  },
  {
   "cell_type": "code",
   "execution_count": null,
   "metadata": {},
   "outputs": [],
   "source": [
    "set(df_deprivation2[\"Upper Tier Local Authority District code (2013)\"].unique()) - set(df_gcse[\"Region #\"].unique())"
   ]
  },
  {
   "cell_type": "markdown",
   "metadata": {},
   "source": [
    "There are far fewer mismatches here, which is hopeful.  But Northumberland and Gateshead continue to cause problems.  In LA1, they are given as E06000048 and E08000020 respectively.  In the deprivation data, they are E06000057 and E08000037.\n",
    "\n",
    "It turns out that E06000057 is a region that contains now inactive predecessors E06000048 and most of E08000020, with E08000037 containing the remainder of E08000020.  The deprivation data is slightly more up to date on these codes, but the redistribution means that it is difficult to match them up.\n",
    "\n",
    "E06000048 can be replaced with E06000057, and E08000020 with E08000037, with the caveat that the data may not have been collected over the exact same region in these cases."
   ]
  },
  {
   "cell_type": "code",
   "execution_count": null,
   "metadata": {},
   "outputs": [],
   "source": [
    "df_gcse.replace('E06000048','E06000057', inplace=True)\n",
    "df_gcse.replace('E08000020','E08000037', inplace=True)"
   ]
  },
  {
   "cell_type": "code",
   "execution_count": null,
   "metadata": {},
   "outputs": [],
   "source": [
    "set(df_gcse[\"Region #\"].unique()) - set(df_deprivation2[\"Upper Tier Local Authority District code (2013)\"].unique())"
   ]
  },
  {
   "cell_type": "code",
   "execution_count": null,
   "metadata": {},
   "outputs": [],
   "source": [
    "set(df_deprivation2[\"Upper Tier Local Authority District code (2013)\"].unique()) - set(df_gcse[\"Region #\"].unique())"
   ]
  },
  {
   "cell_type": "markdown",
   "metadata": {},
   "source": [
    "Now the two sets of authority codes match and we can move on to getting the rest of the data."
   ]
  },
  {
   "cell_type": "code",
   "execution_count": null,
   "metadata": {},
   "outputs": [],
   "source": [
    "furl3 = 'EMA_data/Deprivation_Index/File_11_ID_2015_Upper-tier_Local_Authority_Summaries.xlsx'\n",
    "df_deprivation2 = pd.read_excel(furl3, \"IMD\")[['Upper Tier Local Authority District code (2013)', 'Upper Tier Local Authority District name (2013)', 'IMD - Average score', 'IMD - Extent']]\n",
    "temp = pd.read_excel(furl3, \"Income\")[['Upper Tier Local Authority District code (2013)', 'Income - Average score']]\n",
    "df_deprivation2 = df_deprivation2.merge(temp)\n",
    "temp = pd.read_excel(furl3, \"Employment\")[['Upper Tier Local Authority District code (2013)', 'Employment - Average score']]\n",
    "df_deprivation2 = df_deprivation2.merge(temp)\n",
    "temp = pd.read_excel(furl3, \"Education\")[['Upper Tier Local Authority District code (2013)', 'Education, Skills and Training - Average score']]\n",
    "df_deprivation2 = df_deprivation2.merge(temp)\n",
    "temp = pd.read_excel(furl3, \"Health\")[['Upper Tier Local Authority District code (2013)', 'Health Deprivation and Disability - Average score']]\n",
    "df_deprivation2 = df_deprivation2.merge(temp)\n",
    "temp = pd.read_excel(furl3, \"Crime\")[['Upper Tier Local Authority District code (2013)', 'Crime - Average score']]\n",
    "df_deprivation2 = df_deprivation2.merge(temp)\n",
    "temp = pd.read_excel(furl3, \"Barriers\")[['Upper Tier Local Authority District code (2013)', 'Barriers to Housing and Services - Average score']]\n",
    "df_deprivation2 = df_deprivation2.merge(temp)\n",
    "temp = pd.read_excel(furl3, \"Living\")[['Upper Tier Local Authority District code (2013)', 'Living Environment - Average score']]\n",
    "df_deprivation2 = df_deprivation2.merge(temp)\n",
    "df_deprivation2.head()"
   ]
  },
  {
   "cell_type": "markdown",
   "metadata": {},
   "source": [
    "Time to try to merge the two datasets.  First rename the deprivation dataset."
   ]
  },
  {
   "cell_type": "code",
   "execution_count": null,
   "metadata": {},
   "outputs": [],
   "source": [
    "df_deprivation2.rename(columns={'Upper Tier Local Authority District code (2013)': 'Region #',\n",
    "                              'Upper Tier Local Authority District name (2013)': 'Region2'}, inplace=True)\n",
    "                    \n",
    "df_deprivation2.head()\n"
   ]
  },
  {
   "cell_type": "code",
   "execution_count": null,
   "metadata": {},
   "outputs": [],
   "source": [
    "df_gcse.head()"
   ]
  },
  {
   "cell_type": "code",
   "execution_count": null,
   "metadata": {},
   "outputs": [],
   "source": [
    "df_compare = df_gcse.merge(df_deprivation2, left_on='Region #', right_on='Region #')\n",
    "df_compare"
   ]
  },
  {
   "cell_type": "markdown",
   "metadata": {},
   "source": [
    "This dataframe contains the expected columns and 152 rows. One last check: do the region names line up?"
   ]
  },
  {
   "cell_type": "code",
   "execution_count": null,
   "metadata": {},
   "outputs": [],
   "source": [
    "import numpy as np\n",
    "df_unmatched_regions = np.where((df_compare['Region'] == df_compare['Region2']), \n",
    "                                \"match\", df_compare['Region #'])\n",
    "set(df_unmatched_regions)"
   ]
  },
  {
   "cell_type": "markdown",
   "metadata": {},
   "source": [
    "There are no mismatches in the names, so we can assume that data is referring to the same regions and there have been no other changes in region code assignments.  No need for the second set of names now."
   ]
  },
  {
   "cell_type": "code",
   "execution_count": null,
   "metadata": {},
   "outputs": [],
   "source": [
    "df_compare.drop(columns=['Region2'], inplace=True)\n",
    "df_compare.head()"
   ]
  },
  {
   "cell_type": "markdown",
   "metadata": {},
   "source": [
    "A quick look at the data overall."
   ]
  },
  {
   "cell_type": "code",
   "execution_count": null,
   "metadata": {},
   "outputs": [],
   "source": [
    "df_compare.describe()"
   ]
  },
  {
   "cell_type": "markdown",
   "metadata": {},
   "source": [
    "Ooooops, it's not picking up all the numerical columns."
   ]
  },
  {
   "cell_type": "code",
   "execution_count": null,
   "metadata": {},
   "outputs": [],
   "source": [
    "df_compare.dtypes"
   ]
  },
  {
   "cell_type": "markdown",
   "metadata": {},
   "source": [
    "...there is data that needs casting to the correct type.  And casting to float is not working."
   ]
  },
  {
   "cell_type": "code",
   "execution_count": null,
   "metadata": {},
   "outputs": [],
   "source": [
    "#df_compare.astype({'Region': 'string',\n",
    "#                  'Region #': 'string',\n",
    "#                  '% 5+ A*-C': 'float64',\n",
    "#                  '% 5+ A*-C inc Eng & Maths GCSE': 'float64',\n",
    "#                  '% 5+ A*-G': 'float64',\n",
    "#                  '% 5+ A*-G inc Eng & Maths GCSE': 'float64',\n",
    "#                  'GCSE or Equv. Maths & English % entered': 'float64',\n",
    "#                  'GCSE or Equv. Maths & English A*-C % achieved': 'float64'}).dtypes\n",
    "\n",
    "# Throws: ValueError: could not convert string to float: '.'"
   ]
  },
  {
   "cell_type": "code",
   "execution_count": null,
   "metadata": {},
   "outputs": [],
   "source": [
    "set(df_compare['% 5+ A*-C'])"
   ]
  },
  {
   "cell_type": "markdown",
   "metadata": {},
   "source": [
    "Lets find that dot."
   ]
  },
  {
   "cell_type": "code",
   "execution_count": null,
   "metadata": {},
   "outputs": [],
   "source": [
    "df_compare[df_compare['% 5+ A*-C'] == \".\"]"
   ]
  },
  {
   "cell_type": "markdown",
   "metadata": {},
   "source": [
    "The dot means data is unavailable (https://assets.publishing.service.gov.uk/government/uploads/system/uploads/attachment_data/file/494073/SFR01_2016.pdf pg 27) .Better remove."
   ]
  },
  {
   "cell_type": "code",
   "execution_count": null,
   "metadata": {},
   "outputs": [],
   "source": [
    "df_compare.drop(df_compare[df_compare[\"Region #\"] == \"E09000001\"].index, inplace=True)\n",
    "df_compare[df_compare['% 5+ A*-C'] == \".\"]"
   ]
  },
  {
   "cell_type": "code",
   "execution_count": null,
   "metadata": {},
   "outputs": [],
   "source": [
    "df_compare = df_compare.astype({'Region': 'string',\n",
    "                  'Region #': 'string',\n",
    "                  '% 5+ A*-C': 'float64',\n",
    "                  '% 5+ A*-C inc Eng & Maths GCSE': 'float64',\n",
    "                  '% 5+ A*-G': 'float64',\n",
    "                  '% 5+ A*-G inc Eng & Maths GCSE': 'float64',\n",
    "                  'GCSE or Equv. Maths & English % entered': 'float64',\n",
    "                  'GCSE or Equv. Maths & English A*-C % achieved': 'float64'})"
   ]
  },
  {
   "cell_type": "markdown",
   "metadata": {},
   "source": [
    "That did it."
   ]
  },
  {
   "cell_type": "code",
   "execution_count": null,
   "metadata": {},
   "outputs": [],
   "source": [
    "df_compare.dtypes"
   ]
  },
  {
   "cell_type": "code",
   "execution_count": null,
   "metadata": {
    "scrolled": true
   },
   "outputs": [],
   "source": [
    "df_compare.describe()"
   ]
  },
  {
   "cell_type": "markdown",
   "metadata": {},
   "source": [
    "We also wanted to look at where GCSEs were being achieved without both Maths and English."
   ]
  },
  {
   "cell_type": "code",
   "execution_count": null,
   "metadata": {},
   "outputs": [],
   "source": [
    "df_compare['% 5+ A*-G excl Eng & Maths GCSE'] = df_compare['% 5+ A*-G'] - df_compare['% 5+ A*-G inc Eng & Maths GCSE']\n",
    "df_compare['% 5+ A*-C excl Eng & Maths GCSE'] = df_compare['% 5+ A*-C'] - df_compare['% 5+ A*-C inc Eng & Maths GCSE']\n",
    "df_compare"
   ]
  },
  {
   "cell_type": "code",
   "execution_count": null,
   "metadata": {},
   "outputs": [],
   "source": [
    "df_compare.describe()"
   ]
  },
  {
   "cell_type": "markdown",
   "metadata": {},
   "source": [
    "Now the data is ready to be analysed."
   ]
  },
  {
   "cell_type": "code",
   "execution_count": null,
   "metadata": {},
   "outputs": [],
   "source": []
  },
  {
   "cell_type": "markdown",
   "metadata": {},
   "source": [
    "## Analysis"
   ]
  },
  {
   "cell_type": "markdown",
   "metadata": {},
   "source": [
    "Run this to start from this stage skipping above:"
   ]
  },
  {
   "cell_type": "code",
   "execution_count": null,
   "metadata": {},
   "outputs": [],
   "source": [
    "df_compare = pd.read_csv('Merged.csv')\n",
    "df_gcse = pd.read_csv('KS4.csv')\n",
    "df_deprivation2 = pd.read_csv('IMD.csv')"
   ]
  },
  {
   "cell_type": "code",
   "execution_count": null,
   "metadata": {},
   "outputs": [],
   "source": [
    "import numpy as np\n",
    "import matplotlib.pyplot as plt\n",
    "import seaborn as sns\n",
    "from sklearn import cluster\n",
    "import scipy.stats"
   ]
  },
  {
   "cell_type": "markdown",
   "metadata": {},
   "source": [
    "We would expect the deprivation measures to be connected, but how?  Previous work on this has been done in TMA02 showing some correlations.  Could they be assigned into clusters?"
   ]
  },
  {
   "cell_type": "markdown",
   "metadata": {},
   "source": [
    "Let's create a tool to help us use k means to cluster data, so we're not repeating a lot of code"
   ]
  },
  {
   "cell_type": "code",
   "execution_count": null,
   "metadata": {},
   "outputs": [],
   "source": [
    "def clusterise(data, k):\n",
    "    newDF = data.copy().select_dtypes(exclude=['string', 'object'])\n",
    "    kmeans = cluster.KMeans(n_clusters=k)\n",
    "    newDF['Cluster'] = kmeans.fit(newDF).labels_\n",
    "    return newDF"
   ]
  },
  {
   "cell_type": "markdown",
   "metadata": {},
   "source": [
    "And another tool to plot clustered data"
   ]
  },
  {
   "cell_type": "code",
   "execution_count": null,
   "metadata": {},
   "outputs": [],
   "source": [
    "def plotClusters(data, ax1name, ax2name, k):\n",
    "    cl = data['Cluster']\n",
    "    colour = ['red', 'blue', 'green', 'cyan', 'magenta', 'yellow', 'black']\n",
    "    for x in range(k):\n",
    "        plt.scatter(data[ax1name][cl==x],\n",
    "            data[ax2name][cl==x],\n",
    "            color=colour[x], marker='o', label='cluster ' + str(x+1))\n",
    "    plt.legend()\n",
    "    plt.xlabel(ax1name)\n",
    "    plt.ylabel(ax2name)\n",
    "    plt.title(str(k) + '-means Clustering On All Data')\n",
    "    plt.plot()\n",
    "    (r, p) = scipy.stats.pearsonr(data[ax1name], data[ax2name])\n",
    "    print('r: {r}, p: {p}'.format(r=r, p=p))"
   ]
  },
  {
   "cell_type": "code",
   "execution_count": null,
   "metadata": {},
   "outputs": [],
   "source": [
    "k = 5\n",
    "df_deprivation_clusters = clusterise(df_deprivation2, k)"
   ]
  },
  {
   "cell_type": "code",
   "execution_count": null,
   "metadata": {},
   "outputs": [],
   "source": [
    "plotClusters(df_deprivation_clusters, 'IMD - Average score', 'Income - Average score', k)"
   ]
  },
  {
   "cell_type": "code",
   "execution_count": null,
   "metadata": {},
   "outputs": [],
   "source": [
    "plotClusters(df_deprivation_clusters, 'IMD - Average score', 'Employment - Average score', k)"
   ]
  },
  {
   "cell_type": "code",
   "execution_count": null,
   "metadata": {},
   "outputs": [],
   "source": [
    "plotClusters(df_deprivation_clusters, 'IMD - Average score', 'Education, Skills and Training - Average score', k)"
   ]
  },
  {
   "cell_type": "code",
   "execution_count": null,
   "metadata": {},
   "outputs": [],
   "source": [
    "plotClusters(df_deprivation_clusters, 'IMD - Average score', 'Health Deprivation and Disability - Average score', k)"
   ]
  },
  {
   "cell_type": "code",
   "execution_count": null,
   "metadata": {},
   "outputs": [],
   "source": [
    "plotClusters(df_deprivation_clusters, 'IMD - Average score', 'Barriers to Housing and Services - Average score', k)"
   ]
  },
  {
   "cell_type": "code",
   "execution_count": null,
   "metadata": {},
   "outputs": [],
   "source": [
    "plotClusters(df_deprivation_clusters, 'IMD - Average score', 'Living Environment - Average score', k)"
   ]
  },
  {
   "cell_type": "code",
   "execution_count": null,
   "metadata": {},
   "outputs": [],
   "source": [
    "plotClusters(df_deprivation_clusters, 'IMD - Average score', 'Crime - Average score', k)"
   ]
  },
  {
   "cell_type": "markdown",
   "metadata": {},
   "source": [
    "Investigating clustering on the deprivation data reveals a potential 5 types of deprived area:\n",
    "\n",
    "- Overall low deprivation (low scores on all fronts)\n",
    "- Overall high deprivation (high scores on all fronts)\n",
    "- Overall medium deprivation, higher crime (medium scores on all fronts)\n",
    "- High scores in living & barriers, low scores in education, employment & health\n",
    "- Low scores in living & barriers, high scores in education, employment & health, lower crime\n",
    "\n",
    "Lowering the number of clusters to 3, instead of reducing this to a simple low, high and meduim deprivation, emphasises the split in types 4 and 5. Raising the number of clusters reveals no extra significant information.  The clusters are not precisely repeatable, but the same five categories appears each time.\n",
    "\n",
    "I have a hunch that this represents an urban vs rural split.  Where are the regions?"
   ]
  },
  {
   "cell_type": "code",
   "execution_count": null,
   "metadata": {},
   "outputs": [],
   "source": [
    "import folium\n",
    "import requests\n"
   ]
  },
  {
   "cell_type": "markdown",
   "metadata": {},
   "source": [
    "Importing border data via http request is going to be slow.  It would be best to retrieve all the borders once and store them for future use."
   ]
  },
  {
   "cell_type": "code",
   "execution_count": null,
   "metadata": {},
   "outputs": [],
   "source": [
    "def addRegion(col, region):\n",
    "    endpoint = ('https://services1.arcgis.com/ESMARspQHYMw9BZ9/arcgis/rest/services/Local_Authority_Districts_December_2018_Boundaries_GB_BFC/FeatureServer/0/query?where=LAD18CD%3D\\'' \n",
    "            + \n",
    "           region\n",
    "            +'\\'')\n",
    "    params = {'f' : 'pgeojson' }\n",
    "\n",
    "    try:\n",
    "        r = requests.get(endpoint, params=params)\n",
    "        r.raise_for_status()\n",
    "        col[region] = r.json()\n",
    "        if col[region].get('type') != 'FeatureCollection':\n",
    "            print(\"No usable data at: \" + endpoint)\n",
    "            del col[region]\n",
    "            return 0\n",
    "        return 1\n",
    "    except requests.exceptions.RequestException as e:\n",
    "        print(e)\n",
    "        return 0\n",
    "    "
   ]
  },
  {
   "cell_type": "code",
   "execution_count": null,
   "metadata": {},
   "outputs": [],
   "source": [
    "def addCounty(col, region):\n",
    "    endpoint = ('https://opendata.arcgis.com/datasets/0b2c8acda82d4dd3aecdad8233d6bd9b_0.geojson?where=cty19cd%3D\\'' \n",
    "            + \n",
    "           region\n",
    "            +'\\'')\n",
    "    params = {'f' : 'pgeojson' }\n",
    "\n",
    "    try:\n",
    "        r = requests.get(endpoint, params=params)\n",
    "        r.raise_for_status()\n",
    "        col[region] = r.json()\n",
    "        if col[region].get('type') != 'FeatureCollection':\n",
    "            del col[region]\n",
    "            print(\"No usable data at: \" + endpoint)\n",
    "            return 0\n",
    "        return 1\n",
    "    except requests.exceptions.RequestException as e:\n",
    "        print(e)\n",
    "        return 0\n",
    "    \n"
   ]
  },
  {
   "cell_type": "code",
   "execution_count": null,
   "metadata": {},
   "outputs": [],
   "source": [
    "def addAllRegions(col, regions):\n",
    "    suc = 0\n",
    "    for re in regions:  \n",
    "        if re.find(\"E1\") == -1:\n",
    "            suc += addRegion(col, re)\n",
    "        else:\n",
    "            suc += addCounty(col, re)\n",
    "    print(str(suc) + ' regions added of ' + str(len(regions)) + '.')\n",
    "        \n",
    "    "
   ]
  },
  {
   "cell_type": "code",
   "execution_count": null,
   "metadata": {},
   "outputs": [],
   "source": [
    "##code commented to prevent 2nd run \n",
    "\n",
    "#col = {}\n",
    "#addAllRegions(col, df_compare['Region #'])\n",
    "#len(col)\n"
   ]
  },
  {
   "cell_type": "markdown",
   "metadata": {},
   "source": [
    "For some reason I can't get Dorset for now, even trying alternative methods.  But I can save the rest.\n"
   ]
  },
  {
   "cell_type": "markdown",
   "metadata": {},
   "source": [
    "**NOTE: mapdata file was too large to include in EMA submission.  It can be recreated with the notebook \n",
    "Data Acquisition And Cleaning**  "
   ]
  },
  {
   "cell_type": "code",
   "execution_count": null,
   "metadata": {},
   "outputs": [],
   "source": [
    "#commented to prevent overwrite\n",
    "#np.save('mapdata.npy', col) \n",
    "\n",
    "#Load \n",
    "#mapdata = np.load('mapdata.npy',allow_pickle='TRUE').item()"
   ]
  },
  {
   "cell_type": "code",
   "execution_count": null,
   "metadata": {},
   "outputs": [],
   "source": [
    "def addMapRegions(regionDict, keys, style, m):\n",
    "    for key in keys: \n",
    "        try:\n",
    "            folium.GeoJson(regionDict[key], name=key, style_function=lambda x:style).add_to(m)\n",
    "        except:\n",
    "            print(\"An exception occurred with key: \" + key)    "
   ]
  },
  {
   "cell_type": "code",
   "execution_count": null,
   "metadata": {},
   "outputs": [],
   "source": [
    "m = folium.Map(location=[50, -3], width=500,\n",
    "               height=800, zoom_start=5)\n",
    "\n",
    "blue = {'fillColor': '#0000FF', 'color': '#0000FF'}\n",
    "red = {'fillColor': '#FF0000', 'color': '#FF0000'}\n",
    "green = {'fillColor': '#00FF00', 'color': '#00FF00'}\n",
    "magenta = {'fillColor': '#FF00FF', 'color': '#FF00FF'}\n",
    "cyan = {'fillColor': '#00FFFF', 'color': '#00FFFF'}\n",
    "\n",
    "key = 'E10000009'\n",
    "folium.GeoJson(mapdata[key], name=key, style_function=lambda x:cyan).add_to(m)\n",
    "m"
   ]
  },
  {
   "cell_type": "markdown",
   "metadata": {},
   "source": [
    "Something about adding all regions is causing a crash.  It's probably too much at once.  Try splitting it up."
   ]
  },
  {
   "cell_type": "code",
   "execution_count": null,
   "metadata": {},
   "outputs": [],
   "source": [
    "counties = df_compare['Region #'][df_compare['Region #'].str.contains(\"E1\")]\n",
    "len(counties)"
   ]
  },
  {
   "cell_type": "code",
   "execution_count": null,
   "metadata": {},
   "outputs": [],
   "source": [
    "noncounties = set(df_compare['Region #']) - set(counties)\n",
    "len(noncounties)"
   ]
  },
  {
   "cell_type": "code",
   "execution_count": null,
   "metadata": {},
   "outputs": [],
   "source": [
    "m = folium.Map(location=[50, -3], width=500, height=800, zoom_start=5)\n",
    "\n",
    "addMapRegions(mapdata, counties, blue, m)\n",
    "m"
   ]
  },
  {
   "cell_type": "markdown",
   "metadata": {},
   "source": [
    "We get an error looking for dorset, because it isn't there in the map data, but everything else displays. [Dorset data later found and added manually]"
   ]
  },
  {
   "cell_type": "code",
   "execution_count": null,
   "metadata": {},
   "outputs": [],
   "source": [
    "#addMapRegions(mapdata, noncounties, red, m)\n",
    "#m"
   ]
  },
  {
   "cell_type": "markdown",
   "metadata": {},
   "source": [
    "OK, adding them both separately also causes a crash.  Just too much on one map."
   ]
  },
  {
   "cell_type": "code",
   "execution_count": null,
   "metadata": {},
   "outputs": [],
   "source": [
    "m2 = folium.Map(location=[50, -3], width=500, height=800, zoom_start=5)\n",
    "\n",
    "addMapRegions(mapdata, noncounties, red, m2)\n",
    "m2"
   ]
  },
  {
   "cell_type": "markdown",
   "metadata": {},
   "source": [
    "Overlaying the two maps in an image editor shows that only Dorset is missing, everything else matches up without overlaps."
   ]
  },
  {
   "cell_type": "markdown",
   "metadata": {},
   "source": [
    "We should be able to merge to add the clusters:"
   ]
  },
  {
   "cell_type": "code",
   "execution_count": null,
   "metadata": {},
   "outputs": [],
   "source": [
    "test = df_compare.merge(df_deprivation_clusters)\n",
    "test"
   ]
  },
  {
   "cell_type": "markdown",
   "metadata": {},
   "source": [
    "That worked, so do it on the main dataframe:"
   ]
  },
  {
   "cell_type": "code",
   "execution_count": null,
   "metadata": {},
   "outputs": [],
   "source": [
    "df_compare = df_compare.merge(df_deprivation_clusters)\n",
    "df_compare"
   ]
  },
  {
   "cell_type": "markdown",
   "metadata": {},
   "source": [
    "NOTE: rerunning will change cluster numbering and exact members, but approximately the same clusters will emerge. For the clusters used for the rest of the notebook, run the folowing code to load the saved file:\n"
   ]
  },
  {
   "cell_type": "code",
   "execution_count": null,
   "metadata": {},
   "outputs": [],
   "source": [
    "df_compare = pd.read_csv('clusters_diary.csv')"
   ]
  },
  {
   "cell_type": "code",
   "execution_count": null,
   "metadata": {},
   "outputs": [],
   "source": [
    "cluster1 = df_compare[\"Region #\"].loc[df_compare['Cluster']==0]\n",
    "cluster2 = df_compare[\"Region #\"].loc[df_compare['Cluster']==1]\n",
    "cluster3 = df_compare[\"Region #\"].loc[df_compare['Cluster']==2]\n",
    "cluster4 = df_compare[\"Region #\"].loc[df_compare['Cluster']==3]\n",
    "cluster5 = df_compare[\"Region #\"].loc[df_compare['Cluster']==4]\n"
   ]
  },
  {
   "cell_type": "code",
   "execution_count": null,
   "metadata": {},
   "outputs": [],
   "source": [
    "print(len(cluster1))\n",
    "print(len(cluster2))\n",
    "print(len(cluster3))\n",
    "print(len(cluster4))\n",
    "print(len(cluster5))"
   ]
  },
  {
   "cell_type": "code",
   "execution_count": null,
   "metadata": {},
   "outputs": [],
   "source": [
    "m3 = folium.Map(location=[50, -3], width=500, height=800, zoom_start=5)\n",
    "\n",
    "addMapRegions(mapdata, cluster1, red, m3)\n",
    "m3"
   ]
  },
  {
   "cell_type": "code",
   "execution_count": null,
   "metadata": {},
   "outputs": [],
   "source": [
    "m3 = folium.Map(location=[50, -3], width=500, height=800, zoom_start=5)\n",
    "\n",
    "addMapRegions(mapdata, cluster2, blue, m3)\n",
    "m3"
   ]
  },
  {
   "cell_type": "code",
   "execution_count": null,
   "metadata": {},
   "outputs": [],
   "source": [
    "m3 = folium.Map(location=[50, -3], width=500, height=800, zoom_start=5)\n",
    "\n",
    "addMapRegions(mapdata, cluster3, green, m3)\n",
    "m3"
   ]
  },
  {
   "cell_type": "code",
   "execution_count": null,
   "metadata": {},
   "outputs": [],
   "source": [
    "m4 = folium.Map(location=[50, -3], width=500, height=800, zoom_start=5)\n",
    "\n",
    "addMapRegions(mapdata, cluster4, cyan, m4)\n",
    "m4"
   ]
  },
  {
   "cell_type": "code",
   "execution_count": null,
   "metadata": {},
   "outputs": [],
   "source": [
    "m5 = folium.Map(location=[50, -3], width=500, height=800, zoom_start=5)\n",
    "\n",
    "addMapRegions(mapdata, cluster5, magenta, m5)\n",
    "m5"
   ]
  },
  {
   "cell_type": "markdown",
   "metadata": {},
   "source": [
    "- Cluster 4, ~19 regions: overall high deprivation. Mostly midlands/north urban areas.\n",
    "- Cluster 5, ~53 regions: overall low deprivation. Mostly rural south and midlands.\n",
    "- Cluster 2, ~32 regions: medium deprivation at all levels.\n",
    "- Cluster 1, ~20 regions: high scores in living & barriers, low scores in education, employment & health. Mostly London areas.\n",
    "- Cluster 3, ~27 regions: Low scores in living & barriers, high scores in education, employment & health\n"
   ]
  },
  {
   "cell_type": "markdown",
   "metadata": {},
   "source": [
    "How does overall deprivation relate to these clusters?"
   ]
  },
  {
   "cell_type": "code",
   "execution_count": null,
   "metadata": {},
   "outputs": [],
   "source": [
    "plotClusters(df_compare, 'Cluster', 'IMD - Average score', k)"
   ]
  },
  {
   "cell_type": "markdown",
   "metadata": {},
   "source": [
    "There is a clear group of high and low score ranges, with clusters 5 and 4 barely overlapping.  Clusters 2, 3 and 4 all represent the same range of scores that could be considered medium deprivation, though it can be noted that they overlap more with high deprivation than low deprivation."
   ]
  },
  {
   "cell_type": "markdown",
   "metadata": {},
   "source": [
    "Now that is done, we can compare KS4 data and overall deprivation."
   ]
  },
  {
   "cell_type": "markdown",
   "metadata": {
    "heading_collapsed": true
   },
   "source": [
    "## % 5+ A*-C"
   ]
  },
  {
   "cell_type": "code",
   "execution_count": null,
   "metadata": {
    "hidden": true
   },
   "outputs": [],
   "source": [
    "plotClusters(df_compare, 'IMD - Average score', '% 5+ A*-C', k)"
   ]
  },
  {
   "cell_type": "code",
   "execution_count": null,
   "metadata": {
    "hidden": true
   },
   "outputs": [],
   "source": [
    "plotClusters(df_compare, 'Education, Skills and Training - Average score', '% 5+ A*-C', k)"
   ]
  },
  {
   "cell_type": "code",
   "execution_count": null,
   "metadata": {
    "hidden": true
   },
   "outputs": [],
   "source": [
    "plotClusters(df_compare, 'Cluster', '% 5+ A*-C', k)"
   ]
  },
  {
   "cell_type": "markdown",
   "metadata": {
    "hidden": true
   },
   "source": [
    "% 5+ A*-C grades has a reasonable correlation with overall deprivation. When plotted against the clusters, it shows that high deprivation areas are clearly achieving less and low deprivation more, but the gap between medium and low deprivation areas is very small.  These clusters appear to stand up at least a little when applied to the second data set.  Plotting against Education etc deprivation produces an expected far higher corellation, and shows the overlap betwen clusters 1 (low overall deprivation) and cluster 5 (low deprivation in education, employment and health.\n",
    "\n",
    "Outliers: \n",
    "\n",
    "- Isles of Scilly, cluster 1: >84%\n",
    "- Knowsley, cluster 4: <46%\n",
    "- Derby and Isle of Wight, cluster 2: <60%"
   ]
  },
  {
   "cell_type": "markdown",
   "metadata": {
    "heading_collapsed": true,
    "hidden": true
   },
   "source": [
    "### Outlier finding"
   ]
  },
  {
   "cell_type": "code",
   "execution_count": null,
   "metadata": {
    "hidden": true
   },
   "outputs": [],
   "source": [
    "df_compare[df_compare['% 5+ A*-C'] > 84]"
   ]
  },
  {
   "cell_type": "code",
   "execution_count": null,
   "metadata": {
    "hidden": true
   },
   "outputs": [],
   "source": [
    "df_compare[df_compare['% 5+ A*-C'] < 46]"
   ]
  },
  {
   "cell_type": "code",
   "execution_count": null,
   "metadata": {
    "hidden": true
   },
   "outputs": [],
   "source": [
    "d = df_compare[df_compare['Cluster'] == 1]\n",
    "d[d['% 5+ A*-C'] < 60]"
   ]
  },
  {
   "cell_type": "markdown",
   "metadata": {},
   "source": [
    "## % 5+ A*-C inc Eng & Maths GCSE"
   ]
  },
  {
   "cell_type": "code",
   "execution_count": null,
   "metadata": {},
   "outputs": [],
   "source": [
    "plotClusters(df_compare, 'IMD - Average score', '% 5+ A*-C inc Eng & Maths GCSE', k)"
   ]
  },
  {
   "cell_type": "code",
   "execution_count": null,
   "metadata": {},
   "outputs": [],
   "source": [
    "plotClusters(df_compare, 'Education, Skills and Training - Average score', '% 5+ A*-C inc Eng & Maths GCSE', k)"
   ]
  },
  {
   "cell_type": "code",
   "execution_count": null,
   "metadata": {},
   "outputs": [],
   "source": [
    "plotClusters(df_compare, 'Cluster', '% 5+ A*-C inc Eng & Maths GCSE', k)"
   ]
  },
  {
   "cell_type": "markdown",
   "metadata": {},
   "source": [
    "Plotting the data for only those who achieved at the A*-C level including Maths and English shows a higher correlation, and a clearer gap between high and low deprivation.\n",
    "\n",
    "Outliers: \n",
    "\n",
    "- Isles of Scilly, cluster 1: >73%\n",
    "- Knowsley, cluster 4: <40%\n",
    "- Southend-on-Sea: >64%\n",
    "- Slough: >65%"
   ]
  },
  {
   "cell_type": "markdown",
   "metadata": {
    "heading_collapsed": true
   },
   "source": [
    "### Outlier Finding"
   ]
  },
  {
   "cell_type": "code",
   "execution_count": null,
   "metadata": {
    "hidden": true
   },
   "outputs": [],
   "source": [
    "d = df_compare[df_compare['Cluster'] == 0]\n",
    "d[d['% 5+ A*-C inc Eng & Maths GCSE'] > 73]"
   ]
  },
  {
   "cell_type": "code",
   "execution_count": null,
   "metadata": {
    "hidden": true
   },
   "outputs": [],
   "source": [
    "df_compare[df_compare['% 5+ A*-C inc Eng & Maths GCSE'] < 40]"
   ]
  },
  {
   "cell_type": "code",
   "execution_count": null,
   "metadata": {
    "hidden": true
   },
   "outputs": [],
   "source": [
    "d = df_compare[df_compare['Cluster'] == 1]\n",
    "d[d['% 5+ A*-C inc Eng & Maths GCSE'] > 64]"
   ]
  },
  {
   "cell_type": "markdown",
   "metadata": {},
   "source": [
    "## % 5+ A*-C excl Eng & Maths GCSE"
   ]
  },
  {
   "cell_type": "code",
   "execution_count": null,
   "metadata": {},
   "outputs": [],
   "source": [
    "plotClusters(df_compare, 'IMD - Average score', '% 5+ A*-C excl Eng & Maths GCSE', k)"
   ]
  },
  {
   "cell_type": "code",
   "execution_count": null,
   "metadata": {},
   "outputs": [],
   "source": [
    "plotClusters(df_compare, 'Education, Skills and Training - Average score', '% 5+ A*-C excl Eng & Maths GCSE', k)"
   ]
  },
  {
   "cell_type": "code",
   "execution_count": null,
   "metadata": {},
   "outputs": [],
   "source": [
    "plotClusters(df_compare, 'Cluster', '% 5+ A*-C excl Eng & Maths GCSE', k)"
   ]
  },
  {
   "cell_type": "markdown",
   "metadata": {},
   "source": [
    "There is no pattern in the data for achievement of high grades excluding Maths and English."
   ]
  },
  {
   "cell_type": "markdown",
   "metadata": {},
   "source": [
    "## % 5+ A*-G"
   ]
  },
  {
   "cell_type": "code",
   "execution_count": null,
   "metadata": {},
   "outputs": [],
   "source": [
    "plotClusters(df_compare, 'IMD - Average score', '% 5+ A*-G', k)"
   ]
  },
  {
   "cell_type": "code",
   "execution_count": null,
   "metadata": {},
   "outputs": [],
   "source": [
    "plotClusters(df_compare, 'Education, Skills and Training - Average score', '% 5+ A*-G', k)"
   ]
  },
  {
   "cell_type": "code",
   "execution_count": null,
   "metadata": {},
   "outputs": [],
   "source": [
    "plotClusters(df_compare, 'Cluster', '% 5+ A*-G', k)"
   ]
  },
  {
   "cell_type": "markdown",
   "metadata": {},
   "source": [
    "The data for achievement in the 5+ A*-G is a slightly weaker correlation than the A-C range, and shows a reasonably similar range across all groups except the most deprived which is lower.  A pattern of two extreme outliers, one in cluster 1 and one in cluster 4, is emerging from multiple plots.  Both the cluster plot and the education deprivation plot again emphasis an overlap between cluster 1 and 5."
   ]
  },
  {
   "cell_type": "markdown",
   "metadata": {},
   "source": [
    "Outliers: \n",
    "- Isles of Scilly, cluster 1: 100%\n",
    "- Knowsley, cluster 4: 85%"
   ]
  },
  {
   "cell_type": "markdown",
   "metadata": {
    "heading_collapsed": true
   },
   "source": [
    "### Outlier finding"
   ]
  },
  {
   "cell_type": "code",
   "execution_count": null,
   "metadata": {
    "hidden": true
   },
   "outputs": [],
   "source": [
    "df_compare[df_compare['% 5+ A*-G'] > 98]"
   ]
  },
  {
   "cell_type": "code",
   "execution_count": null,
   "metadata": {
    "hidden": true
   },
   "outputs": [],
   "source": [
    "df_compare[df_compare['% 5+ A*-G'] < 86]"
   ]
  },
  {
   "cell_type": "markdown",
   "metadata": {},
   "source": [
    "## % 5+ A*-G inc Eng & Maths GCSE"
   ]
  },
  {
   "cell_type": "code",
   "execution_count": null,
   "metadata": {},
   "outputs": [],
   "source": [
    "plotClusters(df_compare, 'IMD - Average score', '% 5+ A*-G inc Eng & Maths GCSE', k)"
   ]
  },
  {
   "cell_type": "code",
   "execution_count": null,
   "metadata": {},
   "outputs": [],
   "source": [
    "plotClusters(df_compare, 'Education, Skills and Training - Average score', '% 5+ A*-G inc Eng & Maths GCSE', k)"
   ]
  },
  {
   "cell_type": "code",
   "execution_count": null,
   "metadata": {},
   "outputs": [],
   "source": [
    "plotClusters(df_compare, 'Cluster', '% 5+ A*-G inc Eng & Maths GCSE', k)"
   ]
  },
  {
   "cell_type": "markdown",
   "metadata": {},
   "source": [
    "Again including only those who achieved 5+ passes including maths and English strengthens the correllation, and again achievement is mostly even across clusters except for the mot deprived. "
   ]
  },
  {
   "cell_type": "markdown",
   "metadata": {},
   "source": [
    "Outliers: \n",
    "- Isles of Scilly, cluster 1: 100%\n",
    "- Knowsley, cluster 4: <82%\n",
    "- Rochdale, cluster 3: <85% \n",
    "- Bexley, cluster 5: <87%"
   ]
  },
  {
   "cell_type": "markdown",
   "metadata": {
    "heading_collapsed": true
   },
   "source": [
    "### Outlier finding"
   ]
  },
  {
   "cell_type": "code",
   "execution_count": null,
   "metadata": {
    "hidden": true
   },
   "outputs": [],
   "source": [
    "df_compare[df_compare['% 5+ A*-G inc Eng & Maths GCSE'] > 98]"
   ]
  },
  {
   "cell_type": "code",
   "execution_count": null,
   "metadata": {
    "hidden": true
   },
   "outputs": [],
   "source": [
    "df_compare[df_compare['% 5+ A*-G inc Eng & Maths GCSE'] < 85]"
   ]
  },
  {
   "cell_type": "code",
   "execution_count": null,
   "metadata": {
    "hidden": true
   },
   "outputs": [],
   "source": [
    "d = df_compare[df_compare['Cluster'] == 4]\n",
    "d[d['% 5+ A*-G inc Eng & Maths GCSE'] < 87]"
   ]
  },
  {
   "cell_type": "markdown",
   "metadata": {},
   "source": [
    "## % 5+ A*-G excl Eng & Maths GCSE"
   ]
  },
  {
   "cell_type": "code",
   "execution_count": null,
   "metadata": {},
   "outputs": [],
   "source": [
    "plotClusters(df_compare, 'IMD - Average score', '% 5+ A*-G excl Eng & Maths GCSE', k)"
   ]
  },
  {
   "cell_type": "code",
   "execution_count": null,
   "metadata": {},
   "outputs": [],
   "source": [
    "plotClusters(df_compare, 'Education, Skills and Training - Average score', '% 5+ A*-G excl Eng & Maths GCSE', k)"
   ]
  },
  {
   "cell_type": "code",
   "execution_count": null,
   "metadata": {},
   "outputs": [],
   "source": [
    "plotClusters(df_compare, 'Cluster', '% 5+ A*-G excl Eng & Maths GCSE', k)"
   ]
  },
  {
   "cell_type": "markdown",
   "metadata": {},
   "source": [
    "The percentage achieving 5+ passes *without* English and Maths shows a small positive correlation with overall deprivation.  The cluster graph shows things to be relatively similar across groups, though the most and least deprived have a small but clear difference position. "
   ]
  },
  {
   "cell_type": "markdown",
   "metadata": {},
   "source": [
    "Outliers: \n",
    "- Isles of Scilly, cluster 1: 0%\n",
    "- Rochdale, cluster 3: >6% \n",
    "- Bexley, cluster 5: >6%\n",
    "- Salford, cluster 4: >6%\n",
    "- Coventry & Enfield, cluster 2: >4%\n"
   ]
  },
  {
   "cell_type": "markdown",
   "metadata": {
    "heading_collapsed": true
   },
   "source": [
    "### Outlier Finding"
   ]
  },
  {
   "cell_type": "code",
   "execution_count": null,
   "metadata": {
    "hidden": true
   },
   "outputs": [],
   "source": [
    "df_compare[df_compare['% 5+ A*-G excl Eng & Maths GCSE'] == 0]"
   ]
  },
  {
   "cell_type": "code",
   "execution_count": null,
   "metadata": {
    "hidden": true
   },
   "outputs": [],
   "source": [
    "df_compare[df_compare['% 5+ A*-G excl Eng & Maths GCSE'] > 6]"
   ]
  },
  {
   "cell_type": "code",
   "execution_count": null,
   "metadata": {
    "hidden": true
   },
   "outputs": [],
   "source": [
    "d = df_compare[df_compare['Cluster'] == 1]\n",
    "d[d['% 5+ A*-G excl Eng & Maths GCSE'] > 4]"
   ]
  },
  {
   "cell_type": "markdown",
   "metadata": {},
   "source": [
    "### GCSE or Equv. Maths & English % entered"
   ]
  },
  {
   "cell_type": "code",
   "execution_count": null,
   "metadata": {},
   "outputs": [],
   "source": [
    "plotClusters(df_compare, 'IMD - Average score', 'GCSE or Equv. Maths & English % entered', k)"
   ]
  },
  {
   "cell_type": "code",
   "execution_count": null,
   "metadata": {},
   "outputs": [],
   "source": [
    "plotClusters(df_compare, 'Education, Skills and Training - Average score', 'GCSE or Equv. Maths & English % entered', k)"
   ]
  },
  {
   "cell_type": "code",
   "execution_count": null,
   "metadata": {},
   "outputs": [],
   "source": [
    "plotClusters(df_compare, 'Cluster', 'GCSE or Equv. Maths & English % entered', k)"
   ]
  },
  {
   "cell_type": "markdown",
   "metadata": {},
   "source": [
    "A similar pattern emerges again: weak negative correlation, low scores for the most deprived, but the same y axis range for least and medium deprivation areas. "
   ]
  },
  {
   "cell_type": "markdown",
   "metadata": {},
   "source": [
    "Outliers: \n",
    "- Isles of Scilly, cluster 1: 100%\n",
    "- Rochdale, cluster 3: < 90% \n",
    "- Bexley, cluster 5: < 92%\n",
    "- Salford, cluster 4: < 92%\n",
    "- Knowsley, cluster 4: < 92%"
   ]
  },
  {
   "cell_type": "markdown",
   "metadata": {},
   "source": [
    "### Outlier Finding"
   ]
  },
  {
   "cell_type": "code",
   "execution_count": null,
   "metadata": {},
   "outputs": [],
   "source": [
    "df_compare[df_compare['GCSE or Equv. Maths & English % entered'] == 100]"
   ]
  },
  {
   "cell_type": "code",
   "execution_count": null,
   "metadata": {},
   "outputs": [],
   "source": [
    "df_compare[df_compare['GCSE or Equv. Maths & English % entered'] < 92]"
   ]
  },
  {
   "cell_type": "markdown",
   "metadata": {},
   "source": [
    "### GCSE or Equv. Maths & English A*-C % achieved"
   ]
  },
  {
   "cell_type": "code",
   "execution_count": null,
   "metadata": {},
   "outputs": [],
   "source": [
    "plotClusters(df_compare, 'IMD - Average score', 'GCSE or Equv. Maths & English A*-C % achieved', k)"
   ]
  },
  {
   "cell_type": "code",
   "execution_count": null,
   "metadata": {},
   "outputs": [],
   "source": [
    "plotClusters(df_compare, 'Education, Skills and Training - Average score', 'GCSE or Equv. Maths & English A*-C % achieved', k)"
   ]
  },
  {
   "cell_type": "code",
   "execution_count": null,
   "metadata": {},
   "outputs": [],
   "source": [
    "plotClusters(df_compare, 'Cluster', 'GCSE or Equv. Maths & English A*-C % achieved', k)"
   ]
  },
  {
   "cell_type": "markdown",
   "metadata": {},
   "source": [
    "Achievement of A*-C in English is most negatively corellated with IMD score, though not by significantly more than 5+ GSCEs in all pass ranges.  Again the difference between least and most deprived is clear."
   ]
  },
  {
   "cell_type": "markdown",
   "metadata": {},
   "source": [
    "Outliers: \n",
    "- Isles of Scilly, cluster 1: >70%\n",
    "- Knowsley, cluster 4: < 40%\n",
    "- Southend-on-Sea, cluster 2: >64%\n",
    "- Slough, cluster 2: >65%\n",
    "- Kingston upon Thames, cluster 5: >75% "
   ]
  },
  {
   "cell_type": "markdown",
   "metadata": {},
   "source": [
    "### Outlier Finding"
   ]
  },
  {
   "cell_type": "code",
   "execution_count": null,
   "metadata": {},
   "outputs": [],
   "source": [
    "d = df_compare[df_compare['Cluster'] == 0]\n",
    "d[d['GCSE or Equv. Maths & English A*-C % achieved'] > 70]"
   ]
  },
  {
   "cell_type": "code",
   "execution_count": null,
   "metadata": {},
   "outputs": [],
   "source": [
    "df_compare[df_compare['GCSE or Equv. Maths & English A*-C % achieved'] < 40]"
   ]
  },
  {
   "cell_type": "code",
   "execution_count": null,
   "metadata": {},
   "outputs": [],
   "source": [
    "d = df_compare[df_compare['Cluster'] == 1]\n",
    "d[d['GCSE or Equv. Maths & English A*-C % achieved'] > 65]"
   ]
  },
  {
   "cell_type": "code",
   "execution_count": null,
   "metadata": {},
   "outputs": [],
   "source": [
    "d = df_compare[df_compare['Cluster'] == 4]\n",
    "d[d['GCSE or Equv. Maths & English A*-C % achieved'] > 75]"
   ]
  },
  {
   "cell_type": "markdown",
   "metadata": {},
   "source": [
    "### Outlier Investigation"
   ]
  },
  {
   "cell_type": "markdown",
   "metadata": {},
   "source": [
    "The isles of Isles of Scilly stand out for high attainment overall, and Knowsley for low attainment overall.  Southend-on-Sea and Slough do notably better than expected for KS4 acheivement in the region of high attainment given their group.  Rochdale, Bexley, and Salford underperform for their group, particularly in the area of KS4 entry."
   ]
  },
  {
   "cell_type": "code",
   "execution_count": null,
   "metadata": {},
   "outputs": [],
   "source": [
    "outliers = ['E06000053', 'E08000011', 'E06000033', 'E06000039', 'E08000005', 'E08000006', 'E09000004']"
   ]
  },
  {
   "cell_type": "code",
   "execution_count": null,
   "metadata": {},
   "outputs": [],
   "source": [
    "outliers"
   ]
  },
  {
   "cell_type": "code",
   "execution_count": null,
   "metadata": {},
   "outputs": [],
   "source": [
    "m = folium.Map(location=[50, -3], width=500, height=800, zoom_start=5)\n",
    "\n",
    "addMapRegions(mapdata, outliers, blue, m)\n",
    "m"
   ]
  },
  {
   "cell_type": "markdown",
   "metadata": {},
   "source": [
    "Clear geographical clustering. "
   ]
  },
  {
   "cell_type": "code",
   "execution_count": null,
   "metadata": {},
   "outputs": [],
   "source": [
    "noOutliers = df_compare.drop(df_compare[df_compare[\"Region #\"].isin(outliers)].index)\n",
    "noOutliers"
   ]
  },
  {
   "cell_type": "code",
   "execution_count": null,
   "metadata": {},
   "outputs": [],
   "source": [
    "plotClusters(noOutliers, 'IMD - Average score', '% 5+ A*-C', k)"
   ]
  },
  {
   "cell_type": "markdown",
   "metadata": {},
   "source": [
    "Weaker corellation"
   ]
  },
  {
   "cell_type": "code",
   "execution_count": null,
   "metadata": {},
   "outputs": [],
   "source": [
    "plotClusters(noOutliers, 'IMD - Average score', '% 5+ A*-C inc Eng & Maths GCSE', k)"
   ]
  },
  {
   "cell_type": "code",
   "execution_count": null,
   "metadata": {},
   "outputs": [],
   "source": [
    "plotClusters(noOutliers, 'IMD - Average score', '% 5+ A*-C excl Eng & Maths GCSE', k)"
   ]
  },
  {
   "cell_type": "code",
   "execution_count": null,
   "metadata": {},
   "outputs": [],
   "source": [
    "plotClusters(noOutliers, 'IMD - Average score', '% 5+ A*-G', k)"
   ]
  },
  {
   "cell_type": "code",
   "execution_count": null,
   "metadata": {},
   "outputs": [],
   "source": [
    "plotClusters(noOutliers, 'IMD - Average score', '% 5+ A*-G inc Eng & Maths GCSE', k)"
   ]
  },
  {
   "cell_type": "code",
   "execution_count": null,
   "metadata": {},
   "outputs": [],
   "source": [
    "plotClusters(noOutliers, 'IMD - Average score', '% 5+ A*-G excl Eng & Maths GCSE', k)"
   ]
  },
  {
   "cell_type": "code",
   "execution_count": null,
   "metadata": {},
   "outputs": [],
   "source": [
    "plotClusters(noOutliers, 'IMD - Average score', 'GCSE or Equv. Maths & English % entered', k)"
   ]
  },
  {
   "cell_type": "code",
   "execution_count": null,
   "metadata": {},
   "outputs": [],
   "source": [
    "plotClusters(noOutliers, 'IMD - Average score', 'GCSE or Equv. Maths & English A*-C % achieved', k)"
   ]
  },
  {
   "cell_type": "code",
   "execution_count": null,
   "metadata": {},
   "outputs": [],
   "source": []
  },
  {
   "cell_type": "code",
   "execution_count": null,
   "metadata": {},
   "outputs": [],
   "source": []
  },
  {
   "cell_type": "code",
   "execution_count": null,
   "metadata": {},
   "outputs": [],
   "source": []
  },
  {
   "cell_type": "code",
   "execution_count": null,
   "metadata": {},
   "outputs": [],
   "source": []
  }
 ],
 "metadata": {
  "kernelspec": {
   "display_name": "Python 3",
   "language": "python",
   "name": "python3"
  },
  "language_info": {
   "codemirror_mode": {
    "name": "ipython",
    "version": 3
   },
   "file_extension": ".py",
   "mimetype": "text/x-python",
   "name": "python",
   "nbconvert_exporter": "python",
   "pygments_lexer": "ipython3",
   "version": "3.6.8"
  }
 },
 "nbformat": 4,
 "nbformat_minor": 2
}
